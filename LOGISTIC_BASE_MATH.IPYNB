{
 "cells": [
  {
   "cell_type": "markdown",
   "id": "12cc9eab",
   "metadata": {},
   "source": [
    "Step 1: Setup synthetic data and train logistic regression\n"
   ]
  },
  {
   "cell_type": "code",
   "execution_count": null,
   "id": "73110983",
   "metadata": {},
   "outputs": [],
   "source": [
    "import numpy as np\n",
    "import pandas as pd\n",
    "from sklearn.linear_model import LogisticRegression\n",
    "from sklearn.preprocessing import StandardScaler\n",
    "import shap\n",
    "\n",
    "# Sample loan data with 3 features\n",
    "data = {\n",
    "    'income': [50, 60, 70, 80, 90],\n",
    "    'credit_age': [5, 7, 8, 10, 12],\n",
    "    'debt_ratio': [0.3, 0.4, 0.35, 0.2, 0.1],\n",
    "    'default': [0, 0, 1, 0, 0]\n",
    "}\n",
    "\n",
    "df = pd.DataFrame(data)\n",
    "\n",
    "X = df[['income', 'credit_age', 'debt_ratio']]\n",
    "y = df['default']\n",
    "\n",
    "# Scale features (important for logistic regression with SHAP)\n",
    "scaler = StandardScaler()\n",
    "X_scaled = scaler.fit_transform(X)\n",
    "\n",
    "# Train logistic regression\n",
    "model = LogisticRegression()\n",
    "model.fit(X_scaled, y)\n"
   ]
  },
  {
   "cell_type": "code",
   "execution_count": 3,
   "id": "44018edc",
   "metadata": {},
   "outputs": [
    {
     "name": "stdout",
     "output_type": "stream",
     "text": [
      "log_odds -1.44\n",
      "Probability of default: 0.192\n"
     ]
    }
   ],
   "source": [
    "import numpy as np\n",
    "\n",
    "# coefficients and intercept (example)\n",
    "intercept = -2.5\n",
    "coefs = np.array([0.4, -0.2, 0.3])  # for features x1, x2, x3\n",
    "x = np.array([1.5, 0.7, 2.0])       # individual's feature values\n",
    "\n",
    "log_odds = intercept + np.dot(coefs, x)\n",
    "prob_default = 1 / (1 + np.exp(-log_odds))\n",
    "\n",
    "print(\"log_odds\",log_odds)\n",
    "\n",
    "print(f\"Probability of default: {prob_default:.3f}\")\n"
   ]
  },
  {
   "cell_type": "code",
   "execution_count": null,
   "id": "a38e352f",
   "metadata": {},
   "outputs": [],
   "source": []
  }
 ],
 "metadata": {
  "kernelspec": {
   "display_name": "Python 3",
   "language": "python",
   "name": "python3"
  },
  "language_info": {
   "codemirror_mode": {
    "name": "ipython",
    "version": 3
   },
   "file_extension": ".py",
   "mimetype": "text/x-python",
   "name": "python",
   "nbconvert_exporter": "python",
   "pygments_lexer": "ipython3",
   "version": "3.13.3"
  }
 },
 "nbformat": 4,
 "nbformat_minor": 5
}
